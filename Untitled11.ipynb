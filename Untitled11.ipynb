{
  "nbformat": 4,
  "nbformat_minor": 0,
  "metadata": {
    "colab": {
      "provenance": [],
      "authorship_tag": "ABX9TyOYoasK4pqMF87fnUr/o/Xu",
      "include_colab_link": true
    },
    "kernelspec": {
      "name": "python3",
      "display_name": "Python 3"
    },
    "language_info": {
      "name": "python"
    }
  },
  "cells": [
    {
      "cell_type": "markdown",
      "metadata": {
        "id": "view-in-github",
        "colab_type": "text"
      },
      "source": [
        "<a href=\"https://colab.research.google.com/github/Shifask19/Netflix-clone/blob/main/Untitled11.ipynb\" target=\"_parent\"><img src=\"https://colab.research.google.com/assets/colab-badge.svg\" alt=\"Open In Colab\"/></a>"
      ]
    },
    {
      "cell_type": "code",
      "execution_count": null,
      "metadata": {
        "id": "V69asBCcKGUr"
      },
      "outputs": [],
      "source": [
        "def calculate_bmi(weight, height):\n",
        "    bmi = weight / (height ** 2)\n",
        "    return bmi\n",
        "\n",
        "def main():\n",
        "    weight = float(input(\"Enter your weight in kilograms: \"))\n",
        "    height = float(input(\"Enter your height in meters: \"))\n",
        "\n",
        "    bmi = calculate_bmi(weight, height)\n",
        "    print(\"Your BMI is:\", bmi)\n",
        "\n",
        "    if bmi < 18.5:\n",
        "        print(\"You are underweight.\")\n",
        "    elif bmi >= 18.5 and bmi < 24.9:\n",
        "        print(\"You are normal weight.\")\n",
        "    elif bmi >= 25 and bmi < 29.9:\n",
        "        print(\"You are overweight.\")\n",
        "    else:\n",
        "        print(\"You are obese.\")\n",
        "\n",
        "if __name__ == \"__main__\":\n",
        "    main()\n"
      ]
    }
  ]
}